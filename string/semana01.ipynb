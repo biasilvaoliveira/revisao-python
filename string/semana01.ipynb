{
 "cells": [
  {
   "cell_type": "markdown",
   "id": "d7209362",
   "metadata": {},
   "source": [
    "# Semana 1 - Fundamentos úteis de strings no Python"
   ]
  },
  {
   "cell_type": "markdown",
   "id": "4583a19a",
   "metadata": {},
   "source": [
    "## join()"
   ]
  },
  {
   "cell_type": "markdown",
   "id": "150b877c",
   "metadata": {},
   "source": [
    "Esse método pega todos os ítens de um iterável e junta eles em uma string. Uma string deve ser especificada como separador.\n",
    "\n",
    "<u>Sintaxe</u>\n",
    "\n",
    "    string.join(iterable)"
   ]
  },
  {
   "cell_type": "markdown",
   "id": "28b17eb6",
   "metadata": {},
   "source": [
    "* Referência 1: https://www.w3schools.com/python/ref_string_join.asp"
   ]
  },
  {
   "cell_type": "markdown",
   "id": "db9f7d36",
   "metadata": {},
   "source": [
    "### Exemplo 1) \n",
    "\n",
    "Junte todos os ítens de uma tupla em uma string, usando o \"#\" como separador:"
   ]
  },
  {
   "cell_type": "code",
   "execution_count": 2,
   "id": "388adfd3",
   "metadata": {},
   "outputs": [
    {
     "data": {
      "text/plain": [
       "'John#Peter#Vicky'"
      ]
     },
     "execution_count": 2,
     "metadata": {},
     "output_type": "execute_result"
    }
   ],
   "source": [
    "myTuple = ('John', 'Peter', 'Vicky')\n",
    "\n",
    "'#'.join(myTuple)"
   ]
  },
  {
   "cell_type": "markdown",
   "id": "5dd0600a",
   "metadata": {},
   "source": [
    "### Exemplo 2)\n",
    "\n",
    "Junte todos os ítens de um dicionário em uma string, usando a palavra \"TEST\" como separador:"
   ]
  },
  {
   "cell_type": "code",
   "execution_count": 5,
   "id": "87f02912",
   "metadata": {},
   "outputs": [
    {
     "data": {
      "text/plain": [
       "'nameTESTcountry'"
      ]
     },
     "execution_count": 5,
     "metadata": {},
     "output_type": "execute_result"
    }
   ],
   "source": [
    "myDict = {\"name\": \"John\", \"country\": \"Norway\"}\n",
    "mySeparator = \"TEST\"\n",
    "\n",
    "'TEST'.join(myDict)"
   ]
  },
  {
   "cell_type": "markdown",
   "id": "8c9f8fba",
   "metadata": {},
   "source": [
    "## Exercícios de fixação - join()"
   ]
  },
  {
   "cell_type": "markdown",
   "id": "bd8e84c8",
   "metadata": {},
   "source": [
    "### Exercício 1 - Nível Fácil - Formatando palavras\n",
    "\n",
    "Contexto: Você recebeu uma lista de palavras que representam palavras-chave de um produto."
   ]
  },
  {
   "cell_type": "code",
   "execution_count": 7,
   "id": "33c3ae6d",
   "metadata": {},
   "outputs": [],
   "source": [
    "palavras_chave = ['inteligência', 'artificial', 'machine', 'learning']"
   ]
  },
  {
   "cell_type": "markdown",
   "id": "f8e1ce86",
   "metadata": {},
   "source": [
    "Tarefa: Una essas palavras em uma única string, separadas por vírgula e espaço, no formato:\n",
    "\n",
    "\"inteligência, artificial, machine, learning\""
   ]
  },
  {
   "cell_type": "code",
   "execution_count": 12,
   "id": "9cccc27b",
   "metadata": {},
   "outputs": [
    {
     "data": {
      "text/plain": [
       "'inteligência, artificial, machine, learning'"
      ]
     },
     "execution_count": 12,
     "metadata": {},
     "output_type": "execute_result"
    }
   ],
   "source": [
    "', '.join(palavras_chave)"
   ]
  },
  {
   "cell_type": "markdown",
   "id": "92229d75",
   "metadata": {},
   "source": [
    "### Exercício 2 - Nível Médio - Gerando caminhos de arquivos\n",
    "\n",
    "Contexto: Você está trabalhando com dados armazenados em pastas organizadas por data"
   ]
  },
  {
   "cell_type": "code",
   "execution_count": 13,
   "id": "e336bc1b",
   "metadata": {},
   "outputs": [],
   "source": [
    "caminho = ['dados', '2025', 'maio', 'clientes.csv']"
   ]
  },
  {
   "cell_type": "markdown",
   "id": "ff692f5a",
   "metadata": {},
   "source": [
    "Tarefa: Use join() para formar o caminho completo no estilo de sistemas Unix (com /), assim:\n",
    "\n",
    "dados/2025/maio/clientes.csv"
   ]
  },
  {
   "cell_type": "code",
   "execution_count": 14,
   "id": "099b6a1c",
   "metadata": {},
   "outputs": [
    {
     "data": {
      "text/plain": [
       "'dados/2025/maio/clientes.csv'"
      ]
     },
     "execution_count": 14,
     "metadata": {},
     "output_type": "execute_result"
    }
   ],
   "source": [
    "'/'.join(caminho)"
   ]
  },
  {
   "cell_type": "markdown",
   "id": "882f8787",
   "metadata": {},
   "source": [
    "### Exercício 3 - Nível Médio - Pré-processamento textual para modelo\n",
    "\n",
    "Contexto: Antes de aplicar um modelo de NLP, você precisa reconstruir frases tokenizadas."
   ]
  },
  {
   "cell_type": "code",
   "execution_count": 15,
   "id": "29501dfe",
   "metadata": {},
   "outputs": [],
   "source": [
    "tokens = [['olá', 'mundo'], ['modelo', 'de', 'linguagem'], ['openai']]"
   ]
  },
  {
   "cell_type": "markdown",
   "id": "a3d0c771",
   "metadata": {},
   "source": [
    "Tarefa: Usando list comprehension e join(), retransforme cada sublista em uma frase. Resultado esperado:\n",
    "\n",
    "['olá mundo', 'modelo de linguagem', 'openai']"
   ]
  },
  {
   "cell_type": "code",
   "execution_count": 16,
   "id": "4728d05e",
   "metadata": {},
   "outputs": [
    {
     "data": {
      "text/plain": [
       "['olá mundo', 'modelo de linguagem', 'openai']"
      ]
     },
     "execution_count": 16,
     "metadata": {},
     "output_type": "execute_result"
    }
   ],
   "source": [
    "[' '.join(lista) for lista in tokens]"
   ]
  },
  {
   "cell_type": "markdown",
   "id": "fbd624e4",
   "metadata": {},
   "source": [
    "## strip()\n",
    "\n",
    "Referência 1: https://docs.python.org/3/library/stdtypes.html\n",
    "\n",
    "Trata-se de um método que retorna uma cópia da string com os caracteres iniciais e finais removidos. \n",
    "\n",
    "<u>Sintaxe</u>\n",
    "\n",
    "    str.strip(chars)\n",
    "\n",
    "O argumento <i>chars</i> é uma string que especifica o conjunto de caracteres a ser removido. Se omitido ou <i>None</i>, o argumento <i>chars</i> remove os espaços em branco por padrão. O argumento <i>chars</i> não é um prefixo ou sufixo; em vez disso, todas as combinações de seus valores são removidas."
   ]
  },
  {
   "cell_type": "markdown",
   "id": "70bc51c5",
   "metadata": {},
   "source": [
    "<b>Exemplo 1)</b>"
   ]
  },
  {
   "cell_type": "code",
   "execution_count": 20,
   "id": "538e3e9b",
   "metadata": {},
   "outputs": [
    {
     "data": {
      "text/plain": [
       "'spacious'"
      ]
     },
     "execution_count": 20,
     "metadata": {},
     "output_type": "execute_result"
    }
   ],
   "source": [
    "'    spacious          '.strip()"
   ]
  },
  {
   "cell_type": "markdown",
   "id": "cee36a67",
   "metadata": {},
   "source": [
    "<b>Exemplo 2)</b>"
   ]
  },
  {
   "cell_type": "code",
   "execution_count": 25,
   "id": "7b8f27bd",
   "metadata": {},
   "outputs": [
    {
     "data": {
      "text/plain": [
       "'example'"
      ]
     },
     "execution_count": 25,
     "metadata": {},
     "output_type": "execute_result"
    }
   ],
   "source": [
    "'www.example.com'.strip('.cmowz')"
   ]
  },
  {
   "cell_type": "markdown",
   "id": "3d2fe4aa",
   "metadata": {},
   "source": [
    "Referência 2: https://www.w3schools.com/python/ref_string_strip.asp"
   ]
  },
  {
   "cell_type": "markdown",
   "id": "cb630112",
   "metadata": {},
   "source": [
    "<b>Exemplo 1)</b>"
   ]
  },
  {
   "cell_type": "code",
   "execution_count": 29,
   "id": "809696b6",
   "metadata": {},
   "outputs": [
    {
     "name": "stdout",
     "output_type": "stream",
     "text": [
      "of all fruits, banana is my favorite\n"
     ]
    }
   ],
   "source": [
    "txt = '    banana    '\n",
    "\n",
    "x = txt.strip()\n",
    "\n",
    "print('of all fruits,', x, 'is my favorite')\n"
   ]
  },
  {
   "cell_type": "markdown",
   "id": "bedfd4a8",
   "metadata": {},
   "source": [
    "<b>Exemplo 2)</b>"
   ]
  },
  {
   "cell_type": "code",
   "execution_count": 30,
   "id": "fa1d6dbc",
   "metadata": {},
   "outputs": [
    {
     "name": "stdout",
     "output_type": "stream",
     "text": [
      "banana\n"
     ]
    }
   ],
   "source": [
    "txt = \",,,,,rrttgg.....banana....rrr\"\n",
    "\n",
    "x = txt.strip(\",.grt\")\n",
    "\n",
    "print(x)"
   ]
  },
  {
   "cell_type": "markdown",
   "id": "c4c27969",
   "metadata": {},
   "source": [
    "## Exercícios de fixação - strip()"
   ]
  },
  {
   "cell_type": "markdown",
   "id": "4f352f93",
   "metadata": {},
   "source": [
    "### Exercício 1 - Nível Fácil - Limpeza básica de espaços\n",
    "\n",
    "Contexto: Você está lendo nomes de clientes de um formulário que adiciona espaços sem querer."
   ]
  },
  {
   "cell_type": "code",
   "execution_count": 32,
   "id": "5e187814",
   "metadata": {},
   "outputs": [],
   "source": [
    "nomes = ['  Ana  ', 'Carlos ', ' Joana']"
   ]
  },
  {
   "cell_type": "markdown",
   "id": "3342c814",
   "metadata": {},
   "source": [
    "Tarefa: Crie uma nova lista com os nomes sem espaços antes e depois de cada string."
   ]
  }
 ],
 "metadata": {
  "kernelspec": {
   "display_name": "Python 3",
   "language": "python",
   "name": "python3"
  },
  "language_info": {
   "codemirror_mode": {
    "name": "ipython",
    "version": 3
   },
   "file_extension": ".py",
   "mimetype": "text/x-python",
   "name": "python",
   "nbconvert_exporter": "python",
   "pygments_lexer": "ipython3",
   "version": "3.11.1"
  }
 },
 "nbformat": 4,
 "nbformat_minor": 5
}
