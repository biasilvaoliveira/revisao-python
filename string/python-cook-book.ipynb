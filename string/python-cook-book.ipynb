{
 "cells": [
  {
   "cell_type": "markdown",
   "metadata": {},
   "source": [
    "# Capítulo 02 - Strings and Text\n",
    "Página 37"
   ]
  },
  {
   "cell_type": "markdown",
   "metadata": {},
   "source": [
    "## 2.2 Splitting Strings on Any Multiple Delimiters"
   ]
  },
  {
   "cell_type": "markdown",
   "metadata": {},
   "source": [
    "### Problem\n",
    "\n",
    "Precisamos dividir uma string em campos, mas os delimitadores (e o espaçamento ao redor deles) não são consistentes em toda a string."
   ]
  },
  {
   "cell_type": "markdown",
   "metadata": {},
   "source": [
    "### Solution"
   ]
  },
  {
   "cell_type": "markdown",
   "metadata": {},
   "source": [
    "O método <i>split()</i> é feito para casos simples e não suporta múltiplos delimitadores ou considera possíveis espaços em branco ao redor dos delimitadores. Para o caso que precisamos de mais flexibilidade, usamos o método <i>re.split()</i>:"
   ]
  },
  {
   "cell_type": "code",
   "execution_count": 1,
   "metadata": {},
   "outputs": [],
   "source": [
    "line = 'asdf fjdk; afed, fjek,asdf, foo'"
   ]
  },
  {
   "cell_type": "code",
   "execution_count": 3,
   "metadata": {},
   "outputs": [
    {
     "data": {
      "text/plain": [
       "['asdf', 'fjdk;', 'afed,', 'fjek,asdf,', 'foo']"
      ]
     },
     "execution_count": 3,
     "metadata": {},
     "output_type": "execute_result"
    }
   ],
   "source": [
    "# verificando o resultado ao usar o split()\n",
    "line.split(sep=' ')"
   ]
  },
  {
   "cell_type": "code",
   "execution_count": 8,
   "metadata": {},
   "outputs": [
    {
     "data": {
      "text/plain": [
       "['asdf', 'fjdk', 'afed', 'fjek', 'asdf', 'foo']"
      ]
     },
     "execution_count": 8,
     "metadata": {},
     "output_type": "execute_result"
    }
   ],
   "source": [
    "# utilizando o re.split()\n",
    "import re\n",
    "\n",
    "re.split(pattern=r'[;,\\s]\\s*', string=line) "
   ]
  },
  {
   "cell_type": "markdown",
   "metadata": {},
   "source": [
    "Com o re.split(), podemos especificar múltiplos padrões no separador. No exemplo acima, os separadores são a vírgula, o ponto e vírgula ou espaços em branco. \n",
    "\n",
    "- \\s* orresponde a zero ou mais espaços em branco que podem seguir os caracteres delimitadores\n",
    "\n",
    "- \\s significa qualquer espaço em branco, incluindo espaço, tabulação e nova linha\n",
    "\n",
    "- O prefixo r antes da string (como em r'[;,\\s]\\s*') indica que ela é uma string raw (bruta), ou seja, uma raw string literal em Python. Em uma raw string, barras invertidas (\\) são tratadas literalmente e não são interpretadas como caracteres de escape. Sem o r, o Python trataria \\s como uma sequência de escape (se houvesse alguma válida), o que poderia causar problemas em expressões regulares."
   ]
  },
  {
   "cell_type": "markdown",
   "metadata": {},
   "source": [
    "Se os parênteses forem utilizados, então os caracteres que deram match também serão incluídos:"
   ]
  },
  {
   "cell_type": "code",
   "execution_count": 10,
   "metadata": {},
   "outputs": [
    {
     "data": {
      "text/plain": [
       "['asdf',\n",
       " ' ',\n",
       " 'fjdk',\n",
       " ';',\n",
       " '',\n",
       " ' ',\n",
       " 'afed',\n",
       " ',',\n",
       " '',\n",
       " ' ',\n",
       " 'fjek',\n",
       " ',',\n",
       " 'asdf',\n",
       " ',',\n",
       " '',\n",
       " ' ',\n",
       " 'foo']"
      ]
     },
     "execution_count": 10,
     "metadata": {},
     "output_type": "execute_result"
    }
   ],
   "source": [
    "fields = re.split(pattern=r'(;|,|\\s)s*', string=line)\n",
    "fields"
   ]
  },
  {
   "cell_type": "markdown",
   "metadata": {},
   "source": [
    "Extrair os caracteres que deram match pode ser útil em algumas situações. Por exemplo, talvez você precise dos caracteres divididos mais tarde para reformatar uma string de saída:"
   ]
  },
  {
   "cell_type": "code",
   "execution_count": 11,
   "metadata": {},
   "outputs": [
    {
     "data": {
      "text/plain": [
       "['asdf', 'fjdk', '', 'afed', '', 'fjek', 'asdf', '', 'foo']"
      ]
     },
     "execution_count": 11,
     "metadata": {},
     "output_type": "execute_result"
    }
   ],
   "source": [
    "values = fields[::2]\n",
    "values"
   ]
  },
  {
   "cell_type": "code",
   "execution_count": 13,
   "metadata": {},
   "outputs": [
    {
     "data": {
      "text/plain": [
       "[' ', ';', ' ', ',', ' ', ',', ',', ' ', '']"
      ]
     },
     "execution_count": 13,
     "metadata": {},
     "output_type": "execute_result"
    }
   ],
   "source": [
    "delimiters = fields[1::2] + ['']\n",
    "delimiters"
   ]
  },
  {
   "cell_type": "code",
   "execution_count": 18,
   "metadata": {},
   "outputs": [
    {
     "name": "stdout",
     "output_type": "stream",
     "text": [
      "[('asdf', ' '), ('fjdk', ';'), ('', ' '), ('afed', ','), ('', ' '), ('fjek', ','), ('asdf', ','), ('', ' '), ('foo', '')]\n"
     ]
    }
   ],
   "source": [
    "# Verificando como o zip funciona\n",
    "print(list(zip(values, delimiters)))"
   ]
  },
  {
   "cell_type": "code",
   "execution_count": 24,
   "metadata": {},
   "outputs": [
    {
     "data": {
      "text/plain": [
       "'asdf fjdk; afed, fjek,asdf, foo'"
      ]
     },
     "execution_count": 24,
     "metadata": {},
     "output_type": "execute_result"
    }
   ],
   "source": [
    "# Reformulando a string usando os mesmos delimitadores\n",
    "''.join(v + d for v, d in zip(values, delimiters))"
   ]
  }
 ],
 "metadata": {
  "kernelspec": {
   "display_name": "Python 3",
   "language": "python",
   "name": "python3"
  },
  "language_info": {
   "codemirror_mode": {
    "name": "ipython",
    "version": 3
   },
   "file_extension": ".py",
   "mimetype": "text/x-python",
   "name": "python",
   "nbconvert_exporter": "python",
   "pygments_lexer": "ipython3",
   "version": "3.11.1"
  }
 },
 "nbformat": 4,
 "nbformat_minor": 2
}
